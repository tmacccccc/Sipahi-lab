{
 "cells": [
  {
   "cell_type": "code",
   "execution_count": 126,
   "metadata": {},
   "outputs": [],
   "source": [
    "import numpy as np\n",
    "import pandas as pd\n",
    "import os\n",
    "import sys\n",
    "from math import frexp, ldexp\n",
    "import math\n",
    "import time\n",
    "from condTE_utils import CondTEUtils as CTU"
   ]
  },
  {
   "cell_type": "markdown",
   "metadata": {},
   "source": [
    "## Data loading"
   ]
  },
  {
   "cell_type": "code",
   "execution_count": 127,
   "metadata": {},
   "outputs": [],
   "source": [
    "# load data\n",
    "datapath = '../Firearms'\n",
    "data_original = pd.read_excel(os.path.join(datapath,'summary_data.xlsx'))\n",
    "data_original_state = pd.read_excel(os.path.join(datapath,'background_checks_processed.xlsx'))\n",
    "\n",
    "BC = data_original_state.values[:,1:]\n",
    "State_names = data_original_state.columns.values[1:]\n",
    "MS = data_original['Mass shooting'].values\n",
    "MO = data_original['Articles (\"firearm laws and regulations\")'].values\n",
    "\n",
    "# symbolic\n",
    "XBC = (np.diff(BC,axis=0) > 0) * 1\n",
    "XMS = (MS[:-1] > 0)*1\n",
    "XMO = (np.diff(MO,axis=0) > 0) * 1\n",
    "Nt = len(XMO)"
   ]
  },
  {
   "cell_type": "markdown",
   "metadata": {},
   "source": [
    "## Experiment"
   ]
  },
  {
   "cell_type": "code",
   "execution_count": 128,
   "metadata": {},
   "outputs": [],
   "source": [
    "nsurr = 50000"
   ]
  },
  {
   "cell_type": "code",
   "execution_count": 129,
   "metadata": {
    "scrolled": true
   },
   "outputs": [
    {
     "data": {
      "text/plain": [
       "{'Alabama': 0.045687806191075264,\n",
       " 'Alaska': 0.005138575170988702,\n",
       " 'Arizona': 0.03595264422458033,\n",
       " 'Arkansas': 0.046056471482139205,\n",
       " 'California': 0.002854575356465716,\n",
       " 'Colorado': 0.010607858676976889,\n",
       " 'Connecticut': 0.042180243072701185,\n",
       " 'Delaware': 0.02315482468236363,\n",
       " 'Florida': 0.03944052019191702,\n",
       " 'Georgia': 0.024666665324504233,\n",
       " 'Hawaii': 0.00019786791503317858,\n",
       " 'Idaho': 0.040983791300772676,\n",
       " 'Illinois': 0.015348527018638425,\n",
       " 'Indiana': 0.006336937144982624,\n",
       " 'Iowa': 0.03247229617662972,\n",
       " 'Kansas': 0.04002496617617224,\n",
       " 'Kentucky': 0.017799051419385314,\n",
       " 'Louisiana': 0.011968793170482162,\n",
       " 'Maine': 0.0029351940744368754,\n",
       " 'Maryland': 0.015162911346103591,\n",
       " 'Massachusetts': 0.008015226448848445,\n",
       " 'Michigan': 0.015439007374295599,\n",
       " 'Minnesota': 0.011848077096684229,\n",
       " 'Mississippi': 0.009162243215014687,\n",
       " 'Missouri': 0.02605231103965444,\n",
       " 'Montana': 0.005076153406202266,\n",
       " 'Nebraska': 0.029730367087961174,\n",
       " 'Nevada': 0.036466619674146106,\n",
       " 'New Hampshire': 0.01104999715467292,\n",
       " 'New Jersey': 0.01553908570906204,\n",
       " 'New Mexico': 0.018439952804569337,\n",
       " 'New York': 0.014005083546352992,\n",
       " 'North Carolina': 0.02306807826189239,\n",
       " 'North Dakota': 0.03466411683420434,\n",
       " 'Ohio': 0.04831944796583798,\n",
       " 'Oklahoma': 0.0194794296823666,\n",
       " 'Oregon': 0.04034582586903168,\n",
       " 'Pennsylvania': 0.02144077109960607,\n",
       " 'Rhode Island': 0.004065349038127053,\n",
       " 'South Carolina': 0.02694566879834337,\n",
       " 'South Dakota': 0.007310683605902035,\n",
       " 'Tennessee': 0.015988195621670087,\n",
       " 'Texas': 0.017398729357304354,\n",
       " 'Utah': 0.029642575262181392,\n",
       " 'Vermont': 0.014685503376036024,\n",
       " 'Virginia': 0.03239358847611973,\n",
       " 'Washington': 0.01087250477372459,\n",
       " 'West Virginia': 0.014601157133152576,\n",
       " 'Wisconsin': 0.01573809637159762,\n",
       " 'Wyoming': 0.01933997400565568}"
      ]
     },
     "execution_count": 129,
     "metadata": {},
     "output_type": "execute_result"
    }
   ],
   "source": [
    "condTeResults = {state: CTU.cal_transfer_entropy(XBC[:,i],XMO,XMS) for i, state in enumerate(State_names)}\n",
    "condTeResults"
   ]
  },
  {
   "cell_type": "code",
   "execution_count": 130,
   "metadata": {},
   "outputs": [
    {
     "name": "stdout",
     "output_type": "stream",
     "text": [
      "State Alabama finished. It takes 2.66e+02 seconds. ..... 1 / 50\n",
      "State Alaska finished. It takes 2.64e+02 seconds. ..... 2 / 50\n",
      "State Arizona finished. It takes 2.67e+02 seconds. ..... 3 / 50\n",
      "State Arkansas finished. It takes 2.72e+02 seconds. ..... 4 / 50\n",
      "State California finished. It takes 2.74e+02 seconds. ..... 5 / 50\n",
      "State Colorado finished. It takes 3.18e+02 seconds. ..... 6 / 50\n",
      "State Connecticut finished. It takes 2.83e+02 seconds. ..... 7 / 50\n",
      "State Delaware finished. It takes 2.56e+02 seconds. ..... 8 / 50\n",
      "State Florida finished. It takes 2.53e+02 seconds. ..... 9 / 50\n",
      "State Georgia finished. It takes 2.52e+02 seconds. ..... 10 / 50\n",
      "State Hawaii finished. It takes 2.5e+02 seconds. ..... 11 / 50\n",
      "State Idaho finished. It takes 2.53e+02 seconds. ..... 12 / 50\n",
      "State Illinois finished. It takes 2.52e+02 seconds. ..... 13 / 50\n",
      "State Indiana finished. It takes 2.52e+02 seconds. ..... 14 / 50\n",
      "State Iowa finished. It takes 2.52e+02 seconds. ..... 15 / 50\n",
      "State Kansas finished. It takes 2.53e+02 seconds. ..... 16 / 50\n",
      "State Kentucky finished. It takes 2.52e+02 seconds. ..... 17 / 50\n",
      "State Louisiana finished. It takes 3.11e+02 seconds. ..... 18 / 50\n",
      "State Maine finished. It takes 5.12e+02 seconds. ..... 19 / 50\n",
      "State Maryland finished. It takes 3.46e+02 seconds. ..... 20 / 50\n",
      "State Massachusetts finished. It takes 4.96e+02 seconds. ..... 21 / 50\n",
      "State Michigan finished. It takes 4.97e+02 seconds. ..... 22 / 50\n",
      "State Minnesota finished. It takes 2.48e+02 seconds. ..... 23 / 50\n",
      "State Mississippi finished. It takes 2.48e+02 seconds. ..... 24 / 50\n",
      "State Missouri finished. It takes 3.05e+02 seconds. ..... 25 / 50\n",
      "State Montana finished. It takes 3.75e+02 seconds. ..... 26 / 50\n",
      "State Nebraska finished. It takes 3.95e+02 seconds. ..... 27 / 50\n",
      "State Nevada finished. It takes 4e+02 seconds. ..... 28 / 50\n",
      "State New Hampshire finished. It takes 2.47e+02 seconds. ..... 29 / 50\n",
      "State New Jersey finished. It takes 2.47e+02 seconds. ..... 30 / 50\n",
      "State New Mexico finished. It takes 2.48e+02 seconds. ..... 31 / 50\n",
      "State New York finished. It takes 3.92e+02 seconds. ..... 32 / 50\n",
      "State North Carolina finished. It takes 3.69e+02 seconds. ..... 33 / 50\n",
      "State North Dakota finished. It takes 4.1e+02 seconds. ..... 34 / 50\n",
      "State Ohio finished. It takes 2.98e+02 seconds. ..... 35 / 50\n",
      "State Oklahoma finished. It takes 2.47e+02 seconds. ..... 36 / 50\n",
      "State Oregon finished. It takes 2.48e+02 seconds. ..... 37 / 50\n",
      "State Pennsylvania finished. It takes 3.68e+02 seconds. ..... 38 / 50\n",
      "State Rhode Island finished. It takes 3.51e+02 seconds. ..... 39 / 50\n",
      "State South Carolina finished. It takes 4.04e+02 seconds. ..... 40 / 50\n",
      "State South Dakota finished. It takes 3.72e+02 seconds. ..... 41 / 50\n",
      "State Tennessee finished. It takes 2.48e+02 seconds. ..... 42 / 50\n",
      "State Texas finished. It takes 2.48e+02 seconds. ..... 43 / 50\n",
      "State Utah finished. It takes 2.48e+02 seconds. ..... 44 / 50\n",
      "State Vermont finished. It takes 4.06e+02 seconds. ..... 45 / 50\n",
      "State Virginia finished. It takes 3.69e+02 seconds. ..... 46 / 50\n",
      "State Washington finished. It takes 4.06e+02 seconds. ..... 47 / 50\n",
      "State West Virginia finished. It takes 3.03e+02 seconds. ..... 48 / 50\n",
      "State Wisconsin finished. It takes 2.47e+02 seconds. ..... 49 / 50\n",
      "State Wyoming finished. It takes 2.47e+02 seconds. ..... 50 / 50\n"
     ]
    }
   ],
   "source": [
    "surrTEResults = {}\n",
    "for i, state in enumerate(State_names):\n",
    "    b = time.time()\n",
    "    surrTEResults[state] = CTU.surrogate_cond_transfer_entropy(XBC[:,i],XMO,XMS,nsurr)\n",
    "    e = time.time()\n",
    "    s = 'State {} finished. It takes {:5.3} seconds. ..... {} / {}'.format(state, e - b, i+1, 50)\n",
    "    print(s)"
   ]
  },
  {
   "cell_type": "code",
   "execution_count": 131,
   "metadata": {},
   "outputs": [
    {
     "data": {
      "text/plain": [
       "{'Alabama': 0.008139837203255935,\n",
       " 'Alaska': 0.8173636527269454,\n",
       " 'Arizona': 0.03013939721205576,\n",
       " 'Arkansas': 0.007859842803143937,\n",
       " 'California': 0.9290414191716165,\n",
       " 'Colorado': 0.5243495130097398,\n",
       " 'Connecticut': 0.014039719205615888,\n",
       " 'Delaware': 0.14573708525829485,\n",
       " 'Florida': 0.019739605207895843,\n",
       " 'Georgia': 0.11745765084698306,\n",
       " 'Hawaii': 0.74852502949941,\n",
       " 'Idaho': 0.01611967760644787,\n",
       " 'Illinois': 0.3290934181316374,\n",
       " 'Indiana': 0.753584928301434,\n",
       " 'Iowa': 0.052058958820823585,\n",
       " 'Kansas': 0.017819643607127858,\n",
       " 'Kentucky': 0.25657486850262995,\n",
       " 'Louisiana': 0.46997060058798823,\n",
       " 'Maine': 0.9271614567708646,\n",
       " 'Maryland': 0.33433331333373334,\n",
       " 'Massachusetts': 0.6650066998660027,\n",
       " 'Michigan': 0.3288134237315254,\n",
       " 'Minnesota': 0.46849063018739623,\n",
       " 'Mississippi': 0.6042879142417151,\n",
       " 'Missouri': 0.0984980300393992,\n",
       " 'Montana': 0.8221235575288495,\n",
       " 'Nebraska': 0.06779864402711945,\n",
       " 'Nevada': 0.02847943041139177,\n",
       " 'New Hampshire': 0.508629827403452,\n",
       " 'New Jersey': 0.3391532169356613,\n",
       " 'New Mexico': 0.2371352572948541,\n",
       " 'New York': 0.37767244655106896,\n",
       " 'North Carolina': 0.14583708325833483,\n",
       " 'North Dakota': 0.0372792544149117,\n",
       " 'Ohio': 0.006679866402671947,\n",
       " 'Oklahoma': 0.21093578128437432,\n",
       " 'Oregon': 0.018419631607367853,\n",
       " 'Pennsylvania': 0.17075658486830264,\n",
       " 'Rhode Island': 0.8748425031499371,\n",
       " 'South Carolina': 0.09483810323793525,\n",
       " 'South Dakota': 0.7018659626807464,\n",
       " 'Tennessee': 0.30545389092218156,\n",
       " 'Texas': 0.2653546929061419,\n",
       " 'Utah': 0.06789864202715945,\n",
       " 'Vermont': 0.35343293134137316,\n",
       " 'Virginia': 0.046619067618647626,\n",
       " 'Washington': 0.5162896742065158,\n",
       " 'West Virginia': 0.35805283894322115,\n",
       " 'Wisconsin': 0.31867362652746944,\n",
       " 'Wyoming': 0.21687566248675028}"
      ]
     },
     "execution_count": 131,
     "metadata": {},
     "output_type": "execute_result"
    }
   ],
   "source": [
    "p_values = {}\n",
    "ninetyfive_tab = {}\n",
    "for i, state in enumerate(State_names):\n",
    "    count_aux_sum = np.sum(surrTEResults[state] > condTeResults[state])\n",
    "    p_values[state] = (count_aux_sum + 1) / (nsurr + 1)\n",
    "    ninetyfive_tab[state] = np.quantile(surrTEResults[state], 0.95)\n",
    "p_values"
   ]
  }
 ],
 "metadata": {
  "kernelspec": {
   "display_name": "Python 3",
   "language": "python",
   "name": "python3"
  },
  "language_info": {
   "codemirror_mode": {
    "name": "ipython",
    "version": 3
   },
   "file_extension": ".py",
   "mimetype": "text/x-python",
   "name": "python",
   "nbconvert_exporter": "python",
   "pygments_lexer": "ipython3",
   "version": "3.7.3"
  }
 },
 "nbformat": 4,
 "nbformat_minor": 2
}
