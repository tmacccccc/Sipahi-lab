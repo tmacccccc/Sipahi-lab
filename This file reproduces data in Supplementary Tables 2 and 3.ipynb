{
 "cells": [
  {
   "cell_type": "code",
   "execution_count": 1,
   "metadata": {
    "ExecuteTime": {
     "end_time": "2020-08-12T16:40:35.700228Z",
     "start_time": "2020-08-12T16:40:34.982069Z"
    }
   },
   "outputs": [],
   "source": [
    "import numpy as np\n",
    "import pandas as pd\n",
    "import os\n",
    "import sys\n",
    "from math import frexp, ldexp\n",
    "import math\n",
    "import time\n",
    "from condTE_utils import CondTEUtils as CTU"
   ]
  },
  {
   "cell_type": "code",
   "execution_count": 2,
   "metadata": {
    "ExecuteTime": {
     "end_time": "2020-08-12T16:40:35.768241Z",
     "start_time": "2020-08-12T16:40:35.702604Z"
    }
   },
   "outputs": [],
   "source": [
    "# load data\n",
    "datapath = '../Firearms'\n",
    "data_original = pd.read_excel(os.path.join(datapath,'summary_data.xlsx'))\n",
    "BC = data_original['Background checks (48 states, processed)'].values\n",
    "MS = data_original['Mass shooting'].values\n",
    "MO = data_original.values[:,2:5]\n"
   ]
  },
  {
   "cell_type": "code",
   "execution_count": 3,
   "metadata": {
    "ExecuteTime": {
     "end_time": "2020-08-12T16:40:36.003019Z",
     "start_time": "2020-08-12T16:40:35.991992Z"
    }
   },
   "outputs": [
    {
     "data": {
      "text/plain": [
       "((227,), (227,), (227, 3))"
      ]
     },
     "execution_count": 3,
     "metadata": {},
     "output_type": "execute_result"
    }
   ],
   "source": [
    "# symbolic\n",
    "XBC = (np.diff(BC,axis=0) > 0) * 1\n",
    "XMS = (MS[:-1] > 0) * 1\n",
    "XMO = (np.diff(MO,axis=0) > 0) * 1\n",
    "Nt = len(XBC)\n",
    "XBC.shape,XMS.shape,XMO.shape"
   ]
  },
  {
   "cell_type": "code",
   "execution_count": 15,
   "metadata": {
    "ExecuteTime": {
     "end_time": "2020-08-12T17:05:25.392045Z",
     "start_time": "2020-08-12T17:05:25.389255Z"
    }
   },
   "outputs": [],
   "source": [
    "nsurr = 500"
   ]
  },
  {
   "cell_type": "code",
   "execution_count": 16,
   "metadata": {
    "ExecuteTime": {
     "end_time": "2020-08-12T17:05:26.008995Z",
     "start_time": "2020-08-12T17:05:25.984998Z"
    }
   },
   "outputs": [
    {
     "data": {
      "text/plain": [
       "{'MO_laws->BC': 0.028389249277907647,\n",
       " 'MO_laws->MS': 0.0007940280796410182,\n",
       " 'BC->MS': 0.000875914415846557,\n",
       " 'BC->MO_laws': 0.0015724634488607503,\n",
       " 'MS->BC': 0.010884142586891077,\n",
       " 'MS->MO_laws': 0.007692578296242036}"
      ]
     },
     "execution_count": 16,
     "metadata": {},
     "output_type": "execute_result"
    }
   ],
   "source": [
    "# mutual information (MO_laws)\n",
    "mutual_info_MOlaws_label = np.array(['MO_laws->BC', 'MO_laws->MS', 'BC->MS',\n",
    "                               'BC->MO_laws', 'MS->BC', 'MS->MO_laws'])\n",
    "mutual_info_MOlaws_values = np.array([CTU.cal_mutual_information(XBC,XMO[:,0]),\n",
    "                                      CTU.cal_mutual_information(XMS,XMO[:,0]),\n",
    "                                      CTU.cal_mutual_information(XMS,XBC),\n",
    "                                      CTU.cal_mutual_information(XMO[:,0],XBC),\n",
    "                                      CTU.cal_mutual_information(XBC,XMS),\n",
    "                                      CTU.cal_mutual_information(XMO[:,0],XMS)])\n",
    "mutual_info_MOlaws = {}\n",
    "mutual_info_MOlaws = {label : mutual_info_MOlaws_values[i] for i, label in enumerate(mutual_info_MOlaws_label)} \n",
    "\n",
    "mutual_info_MOlaws "
   ]
  },
  {
   "cell_type": "code",
   "execution_count": 17,
   "metadata": {
    "ExecuteTime": {
     "end_time": "2020-08-12T17:05:35.434220Z",
     "start_time": "2020-08-12T17:05:27.131966Z"
    }
   },
   "outputs": [
    {
     "data": {
      "text/plain": [
       "{'MO_laws->BC': 0.007984031936127744,\n",
       " 'MO_laws->MS': 0.6447105788423154,\n",
       " 'BC->MS': 0.5888223552894212,\n",
       " 'BC->MO_laws': 0.47704590818363274,\n",
       " 'MS->BC': 0.0718562874251497,\n",
       " 'MS->MO_laws': 0.1157684630738523}"
      ]
     },
     "execution_count": 17,
     "metadata": {},
     "output_type": "execute_result"
    }
   ],
   "source": [
    "# P_values test (MO_laws)\n",
    "sur_mutual_info_laws_values = [CTU.surrogate_mutual_information(XBC,XMO[:,0],nsurr),\n",
    "                               CTU.surrogate_mutual_information(XMS,XMO[:,0],nsurr),\n",
    "                               CTU.surrogate_mutual_information(XMS,XBC,nsurr),\n",
    "                               CTU.surrogate_mutual_information(XMO[:,0],XBC,nsurr),\n",
    "                               CTU.surrogate_mutual_information(XBC,XMS,nsurr),\n",
    "                               CTU.surrogate_mutual_information(XMO[:,0],XMS,nsurr)]\n",
    "\n",
    "sur_mutual_info_laws = {}\n",
    "sur_mutual_info_laws = {label : sur_mutual_info_laws_values[i] for i, label in enumerate(mutual_info_MOlaws_label)}\n",
    " \n",
    "p_values_laws = {}\n",
    "ninetyfive_tab_laws = {}\n",
    "\n",
    "for i, label in enumerate(mutual_info_MOlaws_label):\n",
    "    aux_count_sum = np.sum(sur_mutual_info_laws[label] > mutual_info_MOlaws[label])\n",
    "    p_values_laws[label] = (aux_count_sum + 1) / (nsurr + 1)\n",
    "    ninetyfive_tab_laws[label] = np.quantile(sur_mutual_info_laws[label] , 0.95)\n",
    "p_values_laws"
   ]
  },
  {
   "cell_type": "code",
   "execution_count": 18,
   "metadata": {
    "ExecuteTime": {
     "end_time": "2020-08-12T17:05:35.793308Z",
     "start_time": "2020-08-12T17:05:35.769314Z"
    }
   },
   "outputs": [
    {
     "data": {
      "text/plain": [
       "{'MO_shooting->BC': 0.0012452430134959336,\n",
       " 'MO_shooting->MS': 0.006117448119202784,\n",
       " 'BC->MS': 0.000875914415846557,\n",
       " 'BC->MO_shooting': 0.0012501595803720011,\n",
       " 'MS->BC': 0.010884142586891077,\n",
       " 'MS->MO_shooting': 0.0032017309356648926}"
      ]
     },
     "execution_count": 18,
     "metadata": {},
     "output_type": "execute_result"
    }
   ],
   "source": [
    "# mutual information (MO_shooting)\n",
    "mutual_info_MOshooting_label = np.array(['MO_shooting->BC', 'MO_shooting->MS', 'BC->MS',\n",
    "                               'BC->MO_shooting', 'MS->BC', 'MS->MO_shooting'])\n",
    "mutual_info_MOshooting_values = np.array([CTU.cal_mutual_information(XBC,XMO[:,2]),\n",
    "                                          CTU.cal_mutual_information(XMS,XMO[:,2]),\n",
    "                                          CTU.cal_mutual_information(XMS,XBC),\n",
    "                                          CTU.cal_mutual_information(XMO[:,2],XBC),\n",
    "                                          CTU.cal_mutual_information(XBC,XMS),\n",
    "                                          CTU.cal_mutual_information(XMO[:,2],XMS)])\n",
    "mutual_info_MOshooting = {}\n",
    "mutual_info_MOshooting = {label : mutual_info_MOshooting_values[i] for i, label in enumerate(mutual_info_MOshooting_label)} \n",
    "\n",
    "mutual_info_MOshooting"
   ]
  },
  {
   "cell_type": "code",
   "execution_count": 19,
   "metadata": {
    "ExecuteTime": {
     "end_time": "2020-08-12T17:05:45.749142Z",
     "start_time": "2020-08-12T17:05:37.539084Z"
    }
   },
   "outputs": [
    {
     "data": {
      "text/plain": [
       "{'MO_shooting->BC': 0.5469061876247505,\n",
       " 'MO_shooting->MS': 0.18163672654690619,\n",
       " 'BC->MS': 0.5888223552894212,\n",
       " 'BC->MO_shooting': 0.5848303393213573,\n",
       " 'MS->BC': 0.0718562874251497,\n",
       " 'MS->MO_shooting': 0.34331337325349304}"
      ]
     },
     "execution_count": 19,
     "metadata": {},
     "output_type": "execute_result"
    }
   ],
   "source": [
    "# P_values test (MO_shooting)\n",
    "sur_mutual_info_shooting_values = [CTU.surrogate_mutual_information(XBC,XMO[:,2],nsurr),\n",
    "                                   CTU.surrogate_mutual_information(XMS,XMO[:,2],nsurr),\n",
    "                                   CTU.surrogate_mutual_information(XMS,XBC,nsurr),\n",
    "                                   CTU.surrogate_mutual_information(XMO[:,2],XBC,nsurr),\n",
    "                                   CTU.surrogate_mutual_information(XBC,XMS,nsurr),\n",
    "                                   CTU.surrogate_mutual_information(XMO[:,2],XMS,nsurr)]\n",
    "\n",
    "sur_mutual_info_shooting = {}\n",
    "sur_mutual_info_shooting = {label : sur_mutual_info_shooting_values[i] for i, label in enumerate(mutual_info_MOshooting_label)}\n",
    " \n",
    "p_values_shooting = {}\n",
    "ninetyfive_tab_shooting = {}\n",
    "\n",
    "for i, label in enumerate(mutual_info_MOshooting_label):\n",
    "    aux_count_sum = np.sum(sur_mutual_info_shooting[label] > mutual_info_MOshooting[label])\n",
    "    p_values_shooting[label] = (aux_count_sum + 1) / (nsurr + 1)\n",
    "    ninetyfive_tab_shooting[label] = np.quantile(sur_mutual_info_shooting[label] , 0.95)\n",
    "p_values_shooting"
   ]
  },
  {
   "cell_type": "code",
   "execution_count": null,
   "metadata": {},
   "outputs": [],
   "source": []
  }
 ],
 "metadata": {
  "kernelspec": {
   "display_name": "Python 3",
   "language": "python",
   "name": "python3"
  },
  "language_info": {
   "codemirror_mode": {
    "name": "ipython",
    "version": 3
   },
   "file_extension": ".py",
   "mimetype": "text/x-python",
   "name": "python",
   "nbconvert_exporter": "python",
   "pygments_lexer": "ipython3",
   "version": "3.7.3"
  }
 },
 "nbformat": 4,
 "nbformat_minor": 2
}
