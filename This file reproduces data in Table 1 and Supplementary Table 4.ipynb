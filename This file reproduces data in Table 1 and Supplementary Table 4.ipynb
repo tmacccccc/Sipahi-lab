{
 "cells": [
  {
   "cell_type": "markdown",
   "metadata": {},
   "source": [
    "## Data loading"
   ]
  },
  {
   "cell_type": "code",
   "execution_count": 11,
   "metadata": {
    "ExecuteTime": {
     "end_time": "2020-08-12T17:07:14.518622Z",
     "start_time": "2020-08-12T17:07:14.511742Z"
    }
   },
   "outputs": [],
   "source": [
    "import numpy as np\n",
    "import pandas as pd\n",
    "import os\n",
    "import sys\n",
    "from math import frexp, ldexp\n",
    "import math\n",
    "import time\n",
    "from condTE_utils import CondTEUtils as CTU"
   ]
  },
  {
   "cell_type": "code",
   "execution_count": 12,
   "metadata": {
    "ExecuteTime": {
     "end_time": "2020-08-12T17:07:14.993413Z",
     "start_time": "2020-08-12T17:07:14.952730Z"
    }
   },
   "outputs": [],
   "source": [
    "# load data\n",
    "datapath = '../Firearms'\n",
    "data_original = pd.read_excel(os.path.join(datapath,'summary_data.xlsx'))\n",
    "BC = data_original['Background checks (48 states, processed)'].values\n",
    "MS = data_original['Mass shooting'].values\n",
    "MO = data_original.values[:,2:5]\n"
   ]
  },
  {
   "cell_type": "code",
   "execution_count": 13,
   "metadata": {
    "ExecuteTime": {
     "end_time": "2020-08-12T17:07:15.381972Z",
     "start_time": "2020-08-12T17:07:15.377402Z"
    }
   },
   "outputs": [],
   "source": [
    "# symbolic\n",
    "XBC = (np.diff(BC,axis=0) > 0) * 1\n",
    "XMS = (MS[:-1] > 0) * 1\n",
    "XMO = (np.diff(MO,axis=0) > 0) * 1\n",
    "Nt = len(XBC)"
   ]
  },
  {
   "cell_type": "markdown",
   "metadata": {},
   "source": [
    "# Experiment"
   ]
  },
  {
   "cell_type": "code",
   "execution_count": 23,
   "metadata": {
    "ExecuteTime": {
     "end_time": "2020-08-12T17:12:30.568666Z",
     "start_time": "2020-08-12T17:12:30.565905Z"
    }
   },
   "outputs": [],
   "source": [
    "nsurr = 50000"
   ]
  },
  {
   "cell_type": "code",
   "execution_count": 24,
   "metadata": {
    "ExecuteTime": {
     "end_time": "2020-08-12T17:12:32.125232Z",
     "start_time": "2020-08-12T17:12:32.084403Z"
    }
   },
   "outputs": [
    {
     "data": {
      "text/plain": [
       "{'MS->BC/MO_laws': 0.013431993682661236,\n",
       " 'MO_laws->BC/MS': 0.038857029521437436,\n",
       " 'BC->MS/MO_laws': 0.018444077159448735,\n",
       " 'MO_laws->MS/BC': 0.011364806635881575,\n",
       " 'BC->MO_laws/MS': 0.002905192435187498,\n",
       " 'MS->MO_laws/BC': 0.008587731438766788}"
      ]
     },
     "execution_count": 24,
     "metadata": {},
     "output_type": "execute_result"
    }
   ],
   "source": [
    "# conditional transfer entropies betweeen every pair (MO_laws)\n",
    "LabelsCond_laws = np.array(['MS->BC/MO_laws','MO_laws->BC/MS','BC->MS/MO_laws',\n",
    "                        'MO_laws->MS/BC','BC->MO_laws/MS','MS->MO_laws/BC'])\n",
    "\n",
    "conTEResults_values_laws = np.array([CTU.cal_transfer_entropy(XBC,XMS,XMO[:,0]),\n",
    "                                     CTU.cal_transfer_entropy(XBC,XMO[:,0],XMS),\n",
    "                                     CTU.cal_transfer_entropy(XMS,XBC,XMO[:,0]),\n",
    "                                     CTU.cal_transfer_entropy(XMS,XMO[:,0],XBC),\n",
    "                                     CTU.cal_transfer_entropy(XMO[:,0],XBC,XMS),\n",
    "                                     CTU.cal_transfer_entropy(XMO[:,0],XMS,XBC)])\n",
    "\n",
    "conTEResults_laws = {}\n",
    "conTEResults_laws = {label : conTEResults_values_laws[i] for i,label in enumerate(LabelsCond_laws)}\n",
    "conTEResults_laws"
   ]
  },
  {
   "cell_type": "code",
   "execution_count": 16,
   "metadata": {
    "ExecuteTime": {
     "end_time": "2020-08-12T17:07:45.521673Z",
     "start_time": "2020-08-12T17:07:45.206254Z"
    }
   },
   "outputs": [
    {
     "ename": "AttributeError",
     "evalue": "type object 'CondTEUtils' has no attribute 'get_sample_space'",
     "output_type": "error",
     "traceback": [
      "\u001b[0;31m---------------------------------------------------------------------------\u001b[0m",
      "\u001b[0;31mAttributeError\u001b[0m                            Traceback (most recent call last)",
      "\u001b[0;32m<ipython-input-16-1de6abaa0227>\u001b[0m in \u001b[0;36m<module>\u001b[0;34m\u001b[0m\n\u001b[1;32m      1\u001b[0m \u001b[0mndarr\u001b[0m \u001b[0;34m=\u001b[0m \u001b[0mnp\u001b[0m\u001b[0;34m.\u001b[0m\u001b[0mstack\u001b[0m\u001b[0;34m(\u001b[0m\u001b[0;34m[\u001b[0m\u001b[0mXBC\u001b[0m\u001b[0;34m]\u001b[0m\u001b[0;34m,\u001b[0m \u001b[0maxis\u001b[0m\u001b[0;34m=\u001b[0m\u001b[0;36m1\u001b[0m\u001b[0;34m)\u001b[0m\u001b[0;34m\u001b[0m\u001b[0;34m\u001b[0m\u001b[0m\n\u001b[0;32m----> 2\u001b[0;31m \u001b[0msample_space\u001b[0m \u001b[0;34m=\u001b[0m \u001b[0mCTU\u001b[0m\u001b[0;34m.\u001b[0m\u001b[0mget_sample_space\u001b[0m\u001b[0;34m(\u001b[0m\u001b[0mndarr\u001b[0m\u001b[0;34m)\u001b[0m\u001b[0;34m\u001b[0m\u001b[0;34m\u001b[0m\u001b[0m\n\u001b[0m\u001b[1;32m      3\u001b[0m \u001b[0mstr_arr\u001b[0m \u001b[0;34m=\u001b[0m \u001b[0mnp\u001b[0m\u001b[0;34m.\u001b[0m\u001b[0marray\u001b[0m\u001b[0;34m(\u001b[0m\u001b[0;34m[\u001b[0m\u001b[0;34m''\u001b[0m\u001b[0;34m.\u001b[0m\u001b[0mjoin\u001b[0m\u001b[0;34m(\u001b[0m\u001b[0mrow\u001b[0m\u001b[0;34m.\u001b[0m\u001b[0mastype\u001b[0m\u001b[0;34m(\u001b[0m\u001b[0mstr\u001b[0m\u001b[0;34m)\u001b[0m\u001b[0;34m)\u001b[0m \u001b[0;32mfor\u001b[0m \u001b[0mrow\u001b[0m \u001b[0;32min\u001b[0m \u001b[0mndarr\u001b[0m\u001b[0;34m]\u001b[0m\u001b[0;34m)\u001b[0m\u001b[0;34m\u001b[0m\u001b[0;34m\u001b[0m\u001b[0m\n\u001b[1;32m      4\u001b[0m \u001b[0mpositions\u001b[0m \u001b[0;34m=\u001b[0m \u001b[0;34m[\u001b[0m\u001b[0mstr_arr\u001b[0m \u001b[0;34m==\u001b[0m \u001b[0msample\u001b[0m \u001b[0;32mfor\u001b[0m \u001b[0msample\u001b[0m \u001b[0;32min\u001b[0m \u001b[0msample_space\u001b[0m\u001b[0;34m]\u001b[0m\u001b[0;34m\u001b[0m\u001b[0;34m\u001b[0m\u001b[0m\n\u001b[1;32m      5\u001b[0m \u001b[0mXBC\u001b[0m\u001b[0;34m[\u001b[0m\u001b[0mpositions\u001b[0m\u001b[0;34m[\u001b[0m\u001b[0;36m0\u001b[0m\u001b[0;34m]\u001b[0m\u001b[0;34m]\u001b[0m\u001b[0;34m\u001b[0m\u001b[0;34m\u001b[0m\u001b[0m\n",
      "\u001b[0;31mAttributeError\u001b[0m: type object 'CondTEUtils' has no attribute 'get_sample_space'"
     ]
    }
   ],
   "source": [
    "ndarr = np.stack([XBC], axis=1)\n",
    "sample_space = CTU.get_sample_space(ndarr)\n",
    "str_arr = np.array([''.join(row.astype(str)) for row in ndarr])\n",
    "positions = [str_arr == sample for sample in sample_space]\n",
    "XBC[positions[0]]"
   ]
  },
  {
   "cell_type": "code",
   "execution_count": 25,
   "metadata": {
    "ExecuteTime": {
     "end_time": "2020-08-12T17:15:44.838618Z",
     "start_time": "2020-08-12T17:12:37.247430Z"
    }
   },
   "outputs": [
    {
     "ename": "KeyboardInterrupt",
     "evalue": "",
     "output_type": "error",
     "traceback": [
      "\u001b[0;31m---------------------------------------------------------------------------\u001b[0m",
      "\u001b[0;31mKeyboardInterrupt\u001b[0m                         Traceback (most recent call last)",
      "\u001b[0;32m<ipython-input-25-18f25d38ee01>\u001b[0m in \u001b[0;36m<module>\u001b[0;34m\u001b[0m\n\u001b[1;32m      1\u001b[0m \u001b[0;31m# P-value test((MO_laws))\u001b[0m\u001b[0;34m\u001b[0m\u001b[0;34m\u001b[0m\u001b[0;34m\u001b[0m\u001b[0m\n\u001b[0;32m----> 2\u001b[0;31m sur_conTEresults_laws_values = np.array([CTU.surrogate_cond_transfer_entropy(XBC,XMS,XMO[:,0],nsurr),\n\u001b[0m\u001b[1;32m      3\u001b[0m                                          \u001b[0mCTU\u001b[0m\u001b[0;34m.\u001b[0m\u001b[0msurrogate_cond_transfer_entropy\u001b[0m\u001b[0;34m(\u001b[0m\u001b[0mXBC\u001b[0m\u001b[0;34m,\u001b[0m\u001b[0mXMO\u001b[0m\u001b[0;34m[\u001b[0m\u001b[0;34m:\u001b[0m\u001b[0;34m,\u001b[0m\u001b[0;36m0\u001b[0m\u001b[0;34m]\u001b[0m\u001b[0;34m,\u001b[0m\u001b[0mXMS\u001b[0m\u001b[0;34m,\u001b[0m\u001b[0mnsurr\u001b[0m\u001b[0;34m)\u001b[0m\u001b[0;34m,\u001b[0m\u001b[0;34m\u001b[0m\u001b[0;34m\u001b[0m\u001b[0m\n\u001b[1;32m      4\u001b[0m                                          \u001b[0mCTU\u001b[0m\u001b[0;34m.\u001b[0m\u001b[0msurrogate_cond_transfer_entropy\u001b[0m\u001b[0;34m(\u001b[0m\u001b[0mXMS\u001b[0m\u001b[0;34m,\u001b[0m\u001b[0mXBC\u001b[0m\u001b[0;34m,\u001b[0m\u001b[0mXMO\u001b[0m\u001b[0;34m[\u001b[0m\u001b[0;34m:\u001b[0m\u001b[0;34m,\u001b[0m\u001b[0;36m0\u001b[0m\u001b[0;34m]\u001b[0m\u001b[0;34m,\u001b[0m\u001b[0mnsurr\u001b[0m\u001b[0;34m)\u001b[0m\u001b[0;34m,\u001b[0m\u001b[0;34m\u001b[0m\u001b[0;34m\u001b[0m\u001b[0m\n\u001b[1;32m      5\u001b[0m                                          \u001b[0mCTU\u001b[0m\u001b[0;34m.\u001b[0m\u001b[0msurrogate_cond_transfer_entropy\u001b[0m\u001b[0;34m(\u001b[0m\u001b[0mXMS\u001b[0m\u001b[0;34m,\u001b[0m\u001b[0mXMO\u001b[0m\u001b[0;34m[\u001b[0m\u001b[0;34m:\u001b[0m\u001b[0;34m,\u001b[0m\u001b[0;36m0\u001b[0m\u001b[0;34m]\u001b[0m\u001b[0;34m,\u001b[0m\u001b[0mXBC\u001b[0m\u001b[0;34m,\u001b[0m\u001b[0mnsurr\u001b[0m\u001b[0;34m)\u001b[0m\u001b[0;34m,\u001b[0m\u001b[0;34m\u001b[0m\u001b[0;34m\u001b[0m\u001b[0m\n",
      "\u001b[0;32m~/Documents/Rifat-lab/FirearmsPython/condTE_utils.py\u001b[0m in \u001b[0;36msurrogate_cond_transfer_entropy\u001b[0;34m(cls, xtarget, xsource, xcond, ns, seed)\u001b[0m\n\u001b[1;32m    122\u001b[0m             \u001b[0mxsource_shuffle\u001b[0m\u001b[0;34m,\u001b[0m \u001b[0mothers\u001b[0m \u001b[0;34m=\u001b[0m \u001b[0mcls\u001b[0m\u001b[0;34m.\u001b[0m\u001b[0mshuffle\u001b[0m\u001b[0;34m(\u001b[0m\u001b[0mxsource\u001b[0m\u001b[0;34m,\u001b[0m \u001b[0;34m[\u001b[0m\u001b[0mxtarget\u001b[0m\u001b[0;34m,\u001b[0m \u001b[0mxcond\u001b[0m\u001b[0;34m]\u001b[0m\u001b[0;34m,\u001b[0m \u001b[0mrds\u001b[0m\u001b[0;34m)\u001b[0m\u001b[0;34m\u001b[0m\u001b[0;34m\u001b[0m\u001b[0m\n\u001b[1;32m    123\u001b[0m             \u001b[0;31m# aux[i] = cls.cal_transfer_entropy(*xt_shuffle)\u001b[0m\u001b[0;34m\u001b[0m\u001b[0;34m\u001b[0m\u001b[0;34m\u001b[0m\u001b[0m\n\u001b[0;32m--> 124\u001b[0;31m             \u001b[0maux\u001b[0m\u001b[0;34m[\u001b[0m\u001b[0mi\u001b[0m\u001b[0;34m]\u001b[0m \u001b[0;34m=\u001b[0m \u001b[0mcls\u001b[0m\u001b[0;34m.\u001b[0m\u001b[0mcal_transfer_entropy\u001b[0m\u001b[0;34m(\u001b[0m\u001b[0mxtarget\u001b[0m\u001b[0;34m,\u001b[0m \u001b[0mxsource_shuffle\u001b[0m\u001b[0;34m,\u001b[0m \u001b[0mxcond\u001b[0m\u001b[0;34m)\u001b[0m\u001b[0;34m\u001b[0m\u001b[0;34m\u001b[0m\u001b[0m\n\u001b[0m\u001b[1;32m    125\u001b[0m         \u001b[0;32mreturn\u001b[0m \u001b[0maux\u001b[0m\u001b[0;34m\u001b[0m\u001b[0;34m\u001b[0m\u001b[0m\n\u001b[1;32m    126\u001b[0m \u001b[0;34m\u001b[0m\u001b[0m\n",
      "\u001b[0;32m~/Documents/Rifat-lab/FirearmsPython/condTE_utils.py\u001b[0m in \u001b[0;36mcal_transfer_entropy\u001b[0;34m(cls, xtarget, xsource, xcond)\u001b[0m\n\u001b[1;32m     81\u001b[0m         \u001b[0;31m# XpXXX situation\u001b[0m\u001b[0;34m\u001b[0m\u001b[0;34m\u001b[0m\u001b[0;34m\u001b[0m\u001b[0m\n\u001b[1;32m     82\u001b[0m         \u001b[0mXpXXXt\u001b[0m \u001b[0;34m=\u001b[0m \u001b[0mnp\u001b[0m\u001b[0;34m.\u001b[0m\u001b[0mstack\u001b[0m\u001b[0;34m(\u001b[0m\u001b[0;34m[\u001b[0m\u001b[0mxtarget\u001b[0m\u001b[0;34m[\u001b[0m\u001b[0;36m1\u001b[0m\u001b[0;34m:\u001b[0m\u001b[0;34m]\u001b[0m\u001b[0;34m,\u001b[0m \u001b[0mxtarget\u001b[0m\u001b[0;34m[\u001b[0m\u001b[0;34m:\u001b[0m\u001b[0;34m-\u001b[0m\u001b[0;36m1\u001b[0m\u001b[0;34m]\u001b[0m\u001b[0;34m,\u001b[0m \u001b[0mxsource\u001b[0m\u001b[0;34m[\u001b[0m\u001b[0;34m:\u001b[0m\u001b[0;34m-\u001b[0m\u001b[0;36m1\u001b[0m\u001b[0;34m]\u001b[0m\u001b[0;34m,\u001b[0m \u001b[0mxcond\u001b[0m\u001b[0;34m[\u001b[0m\u001b[0;34m:\u001b[0m\u001b[0;34m-\u001b[0m\u001b[0;36m1\u001b[0m\u001b[0;34m]\u001b[0m\u001b[0;34m]\u001b[0m\u001b[0;34m,\u001b[0m \u001b[0maxis\u001b[0m\u001b[0;34m=\u001b[0m\u001b[0;36m1\u001b[0m\u001b[0;34m)\u001b[0m\u001b[0;34m\u001b[0m\u001b[0;34m\u001b[0m\u001b[0m\n\u001b[0;32m---> 83\u001b[0;31m         \u001b[0mPxpxxx\u001b[0m \u001b[0;34m=\u001b[0m \u001b[0mcls\u001b[0m\u001b[0;34m.\u001b[0m\u001b[0mcal_prob\u001b[0m\u001b[0;34m(\u001b[0m\u001b[0mXpXXXt\u001b[0m\u001b[0;34m)\u001b[0m\u001b[0;34m\u001b[0m\u001b[0;34m\u001b[0m\u001b[0m\n\u001b[0m\u001b[1;32m     84\u001b[0m         \u001b[0mhxpxxx\u001b[0m \u001b[0;34m=\u001b[0m \u001b[0mcls\u001b[0m\u001b[0;34m.\u001b[0m\u001b[0mcal_entropy\u001b[0m\u001b[0;34m(\u001b[0m\u001b[0mPxpxxx\u001b[0m\u001b[0;34m,\u001b[0m \u001b[0mepsilon\u001b[0m\u001b[0;34m)\u001b[0m\u001b[0;34m\u001b[0m\u001b[0;34m\u001b[0m\u001b[0m\n\u001b[1;32m     85\u001b[0m \u001b[0;34m\u001b[0m\u001b[0m\n",
      "\u001b[0;32m~/Documents/Rifat-lab/FirearmsPython/condTE_utils.py\u001b[0m in \u001b[0;36mcal_prob\u001b[0;34m(cls, ndarr)\u001b[0m\n\u001b[1;32m     19\u001b[0m \u001b[0;34m\u001b[0m\u001b[0m\n\u001b[1;32m     20\u001b[0m         \u001b[0msample_space\u001b[0m \u001b[0;34m=\u001b[0m \u001b[0mcls\u001b[0m\u001b[0;34m.\u001b[0m\u001b[0m__get_sample_space\u001b[0m\u001b[0;34m(\u001b[0m\u001b[0mndarr\u001b[0m\u001b[0;34m)\u001b[0m\u001b[0;34m\u001b[0m\u001b[0;34m\u001b[0m\u001b[0m\n\u001b[0;32m---> 21\u001b[0;31m         \u001b[0mstr_arr\u001b[0m \u001b[0;34m=\u001b[0m \u001b[0mnp\u001b[0m\u001b[0;34m.\u001b[0m\u001b[0marray\u001b[0m\u001b[0;34m(\u001b[0m\u001b[0;34m[\u001b[0m\u001b[0;34m''\u001b[0m\u001b[0;34m.\u001b[0m\u001b[0mjoin\u001b[0m\u001b[0;34m(\u001b[0m\u001b[0mrow\u001b[0m\u001b[0;34m.\u001b[0m\u001b[0mastype\u001b[0m\u001b[0;34m(\u001b[0m\u001b[0mstr\u001b[0m\u001b[0;34m)\u001b[0m\u001b[0;34m)\u001b[0m \u001b[0;32mfor\u001b[0m \u001b[0mrow\u001b[0m \u001b[0;32min\u001b[0m \u001b[0mndarr\u001b[0m\u001b[0;34m]\u001b[0m\u001b[0;34m)\u001b[0m\u001b[0;34m\u001b[0m\u001b[0;34m\u001b[0m\u001b[0m\n\u001b[0m\u001b[1;32m     22\u001b[0m         \u001b[0mprob\u001b[0m \u001b[0;34m=\u001b[0m \u001b[0;34m{\u001b[0m\u001b[0msample\u001b[0m\u001b[0;34m:\u001b[0m\u001b[0;34m(\u001b[0m\u001b[0mstr_arr\u001b[0m \u001b[0;34m==\u001b[0m \u001b[0msample\u001b[0m\u001b[0;34m)\u001b[0m\u001b[0;34m.\u001b[0m\u001b[0msum\u001b[0m\u001b[0;34m(\u001b[0m\u001b[0;34m)\u001b[0m \u001b[0;34m/\u001b[0m \u001b[0mndarr\u001b[0m\u001b[0;34m.\u001b[0m\u001b[0mshape\u001b[0m\u001b[0;34m[\u001b[0m\u001b[0;36m0\u001b[0m\u001b[0;34m]\u001b[0m \u001b[0;32mfor\u001b[0m \u001b[0msample\u001b[0m \u001b[0;32min\u001b[0m \u001b[0msample_space\u001b[0m\u001b[0;34m}\u001b[0m\u001b[0;34m\u001b[0m\u001b[0;34m\u001b[0m\u001b[0m\n\u001b[1;32m     23\u001b[0m         \u001b[0;32mreturn\u001b[0m \u001b[0mprob\u001b[0m\u001b[0;34m\u001b[0m\u001b[0;34m\u001b[0m\u001b[0m\n",
      "\u001b[0;32m~/Documents/Rifat-lab/FirearmsPython/condTE_utils.py\u001b[0m in \u001b[0;36m<listcomp>\u001b[0;34m(.0)\u001b[0m\n\u001b[1;32m     19\u001b[0m \u001b[0;34m\u001b[0m\u001b[0m\n\u001b[1;32m     20\u001b[0m         \u001b[0msample_space\u001b[0m \u001b[0;34m=\u001b[0m \u001b[0mcls\u001b[0m\u001b[0;34m.\u001b[0m\u001b[0m__get_sample_space\u001b[0m\u001b[0;34m(\u001b[0m\u001b[0mndarr\u001b[0m\u001b[0;34m)\u001b[0m\u001b[0;34m\u001b[0m\u001b[0;34m\u001b[0m\u001b[0m\n\u001b[0;32m---> 21\u001b[0;31m         \u001b[0mstr_arr\u001b[0m \u001b[0;34m=\u001b[0m \u001b[0mnp\u001b[0m\u001b[0;34m.\u001b[0m\u001b[0marray\u001b[0m\u001b[0;34m(\u001b[0m\u001b[0;34m[\u001b[0m\u001b[0;34m''\u001b[0m\u001b[0;34m.\u001b[0m\u001b[0mjoin\u001b[0m\u001b[0;34m(\u001b[0m\u001b[0mrow\u001b[0m\u001b[0;34m.\u001b[0m\u001b[0mastype\u001b[0m\u001b[0;34m(\u001b[0m\u001b[0mstr\u001b[0m\u001b[0;34m)\u001b[0m\u001b[0;34m)\u001b[0m \u001b[0;32mfor\u001b[0m \u001b[0mrow\u001b[0m \u001b[0;32min\u001b[0m \u001b[0mndarr\u001b[0m\u001b[0;34m]\u001b[0m\u001b[0;34m)\u001b[0m\u001b[0;34m\u001b[0m\u001b[0;34m\u001b[0m\u001b[0m\n\u001b[0m\u001b[1;32m     22\u001b[0m         \u001b[0mprob\u001b[0m \u001b[0;34m=\u001b[0m \u001b[0;34m{\u001b[0m\u001b[0msample\u001b[0m\u001b[0;34m:\u001b[0m\u001b[0;34m(\u001b[0m\u001b[0mstr_arr\u001b[0m \u001b[0;34m==\u001b[0m \u001b[0msample\u001b[0m\u001b[0;34m)\u001b[0m\u001b[0;34m.\u001b[0m\u001b[0msum\u001b[0m\u001b[0;34m(\u001b[0m\u001b[0;34m)\u001b[0m \u001b[0;34m/\u001b[0m \u001b[0mndarr\u001b[0m\u001b[0;34m.\u001b[0m\u001b[0mshape\u001b[0m\u001b[0;34m[\u001b[0m\u001b[0;36m0\u001b[0m\u001b[0;34m]\u001b[0m \u001b[0;32mfor\u001b[0m \u001b[0msample\u001b[0m \u001b[0;32min\u001b[0m \u001b[0msample_space\u001b[0m\u001b[0;34m}\u001b[0m\u001b[0;34m\u001b[0m\u001b[0;34m\u001b[0m\u001b[0m\n\u001b[1;32m     23\u001b[0m         \u001b[0;32mreturn\u001b[0m \u001b[0mprob\u001b[0m\u001b[0;34m\u001b[0m\u001b[0;34m\u001b[0m\u001b[0m\n",
      "\u001b[0;31mKeyboardInterrupt\u001b[0m: "
     ]
    }
   ],
   "source": [
    "# P-value test((MO_laws))\n",
    "sur_conTEresults_laws_values = np.array([CTU.surrogate_cond_transfer_entropy(XBC,XMS,XMO[:,0],nsurr),\n",
    "                                         CTU.surrogate_cond_transfer_entropy(XBC,XMO[:,0],XMS,nsurr),\n",
    "                                         CTU.surrogate_cond_transfer_entropy(XMS,XBC,XMO[:,0],nsurr),\n",
    "                                         CTU.surrogate_cond_transfer_entropy(XMS,XMO[:,0],XBC,nsurr),\n",
    "                                         CTU.surrogate_cond_transfer_entropy(XMO[:,0],XBC,XMS,nsurr),\n",
    "                                         CTU.surrogate_cond_transfer_entropy(XMO[:,0],XMS,XBC,nsurr)])\n",
    "\n",
    "sur_conTEresults_laws = {}\n",
    "sur_conTEresults_laws = {label: sur_conTEresults_laws_values[i] for i,label in enumerate(LabelsCond_laws)}\n",
    "\n",
    "\n",
    "p_values_laws = {}\n",
    "ninetyfive_tab_laws = {}\n",
    "\n",
    "for i, label in enumerate(LabelsCond_laws):\n",
    "    aux_count_sum = np.sum(sur_conTEresults_laws[label] > conTEResults_laws[label])\n",
    "    p_values_laws[label] = (aux_count_sum + 1) / (nsurr + 1)\n",
    "    ninetyfive_tab_laws[label] = np.quantile(sur_conTEresults_laws[label] , 0.95)\n",
    "p_values_laws\n"
   ]
  },
  {
   "cell_type": "code",
   "execution_count": null,
   "metadata": {
    "ExecuteTime": {
     "end_time": "2020-08-12T17:15:44.841359Z",
     "start_time": "2020-08-12T17:12:40.584Z"
    }
   },
   "outputs": [],
   "source": [
    "# conditional transfer entropies betweeen every pair (MO_shooting)\n",
    "LabelsCond_shooting = np.array(['MS->BC/MO_shooting','MO_shooting->BC/MS','BC->MS/MO_shooting',\n",
    "                        'MO_shooting->MS/BC','BC->MO_shooting/MS','MS->MO_shooting/BC'])\n",
    "\n",
    "conTEResults_values_shooting = np.array([CTU.cal_transfer_entropy(XBC,XMS,XMO[:,2]),\n",
    "                                         CTU.cal_transfer_entropy(XBC,XMO[:,2],XMS),\n",
    "                                         CTU.cal_transfer_entropy(XMS,XBC,XMO[:,2]), \n",
    "                                         CTU.cal_transfer_entropy(XMS,XMO[:,2],XBC),\n",
    "                                         CTU.cal_transfer_entropy(XMO[:,2],XBC,XMS), \n",
    "                                         CTU.cal_transfer_entropy(XMO[:,2],XMS,XBC)])\n",
    "\n",
    "conTEResults_shooting = {}\n",
    "conTEResults_shooting = {label : conTEResults_values_shooting[i] for i,label in enumerate(LabelsCond_shooting)}\n",
    "conTEResults_shooting"
   ]
  },
  {
   "cell_type": "code",
   "execution_count": null,
   "metadata": {
    "ExecuteTime": {
     "end_time": "2020-08-12T17:15:44.842694Z",
     "start_time": "2020-08-12T17:12:42.664Z"
    }
   },
   "outputs": [],
   "source": [
    "# P-value test((MO_shooting)\n",
    "sur_conTEresults_shooting_values = np.array([CTU.surrogate_cond_transfer_entropy(XBC,XMS,XMO[:,2],nsurr),\n",
    "                                             CTU.surrogate_cond_transfer_entropy(XBC,XMO[:,2],XMS,nsurr),\n",
    "                                             CTU.surrogate_cond_transfer_entropy(XMS,XBC,XMO[:,2],nsurr),\n",
    "                                             CTU.surrogate_cond_transfer_entropy(XMS,XMO[:,2],XBC,nsurr),\n",
    "                                             CTU.surrogate_cond_transfer_entropy(XMO[:,2],XBC,XMS,nsurr),\n",
    "                                             CTU.surrogate_cond_transfer_entropy(XMO[:,2],XMS,XBC,nsurr)])\n",
    "\n",
    "sur_conTEresults_shooting = {}\n",
    "sur_conTEresults_shooting = {label: sur_conTEresults_shooting_values[i] for i,label in enumerate(LabelsCond_shooting)}\n",
    "\n",
    "\n",
    "p_values_shooting = {}\n",
    "ninetyfive_tab_shooting = {}\n",
    "\n",
    "for i, label in enumerate(LabelsCond_shooting):\n",
    "    aux_count_sum = np.sum(sur_conTEresults_shooting[label] > conTEResults_shooting[label])\n",
    "    p_values_shooting[label] = (aux_count_sum + 1) / (nsurr + 1)\n",
    "    ninetyfive_tab_shooting[label] = np.quantile(sur_conTEresults_shooting[label] , 0.95)\n",
    "p_values_shooting"
   ]
  },
  {
   "cell_type": "code",
   "execution_count": null,
   "metadata": {
    "ExecuteTime": {
     "end_time": "2020-08-12T17:15:44.843829Z",
     "start_time": "2020-08-12T17:12:43.563Z"
    }
   },
   "outputs": [],
   "source": [
    "# conditional transfer entropies betweeen every pair (MO_unemployment)\n",
    "LabelsCond_unemployment = np.array(['MS->BC/MO_unemployment','MO_unemployment>BC/MS','BC->MS/MO_unemployment',\n",
    "                        'MO_unemployment->MS/BC','BC->MO_unemployment/MS','MS->MO_unemployment/BC'])\n",
    "\n",
    "conTEResults_values_unemployment = np.array([CTU.cal_transfer_entropy(XBC,XMS,XMO[:,1]), \n",
    "                                             CTU.cal_transfer_entropy(XBC,XMO[:,1],XMS),\n",
    "                                             CTU.cal_transfer_entropy(XMS,XBC,XMO[:,1]), \n",
    "                                             CTU.cal_transfer_entropy(XMS,XMO[:,1],XBC),\n",
    "                                             CTU.cal_transfer_entropy(XMO[:,1],XBC,XMS),\n",
    "                                             CTU.cal_transfer_entropy(XMO[:,1],XMS,XBC)])\n",
    "\n",
    "conTEResults_unemployment = {}\n",
    "conTEResults_unemployment = {label : conTEResults_values_unemployment[i] for i,label in enumerate(LabelsCond_unemployment)}\n"
   ]
  },
  {
   "cell_type": "code",
   "execution_count": null,
   "metadata": {
    "ExecuteTime": {
     "end_time": "2020-08-12T17:15:44.845088Z",
     "start_time": "2020-08-12T17:12:44.598Z"
    }
   },
   "outputs": [],
   "source": [
    "# P-value test((MO_unemployment)\n",
    "sur_conTEresults_unemployment_values = np.array([CTU.surrogate_cond_transfer_entropy(XBC,XMS,XMO[:,1],nsurr),\n",
    "                                                 CTU.surrogate_cond_transfer_entropy(XBC,XMO[:,1],XMS,nsurr),\n",
    "                                                 CTU.surrogate_cond_transfer_entropy(XMS,XBC,XMO[:,1],nsurr),\n",
    "                                                 CTU.surrogate_cond_transfer_entropy(XMS,XMO[:,1],XBC,nsurr),\n",
    "                                                 CTU.surrogate_cond_transfer_entropy(XMO[:,1],XBC,XMS,nsurr),\n",
    "                                                 CTU.surrogate_cond_transfer_entropy(XMO[:,1],XMS,XBC,nsurr)])\n",
    "\n",
    "sur_conTEresults_unemployment = {}\n",
    "sur_conTEresults_unemployment = {label: sur_conTEresults_unemployment_values[i] for i,label in enumerate(LabelsCond_unemployment)}\n",
    "\n",
    "\n",
    "p_values_unemployment = {}\n",
    "ninetyfive_tab_unemployment = {}\n",
    "\n",
    "for i, label in enumerate(LabelsCond_unemployment):\n",
    "    aux_count_sum = np.sum(sur_conTEresults_unemployment[label] > conTEResults_unemployment[label])\n",
    "    p_values_unemployment[label] = (aux_count_sum + 1) / (nsurr + 1)\n",
    "    ninetyfive_tab_unemployment[label] = np.quantile(sur_conTEresults_unemployment[label] , 0.95)\n",
    "p_values_unemployment"
   ]
  },
  {
   "cell_type": "code",
   "execution_count": null,
   "metadata": {},
   "outputs": [],
   "source": []
  }
 ],
 "metadata": {
  "kernelspec": {
   "display_name": "Python 3",
   "language": "python",
   "name": "python3"
  },
  "language_info": {
   "codemirror_mode": {
    "name": "ipython",
    "version": 3
   },
   "file_extension": ".py",
   "mimetype": "text/x-python",
   "name": "python",
   "nbconvert_exporter": "python",
   "pygments_lexer": "ipython3",
   "version": "3.7.3"
  }
 },
 "nbformat": 4,
 "nbformat_minor": 2
}
